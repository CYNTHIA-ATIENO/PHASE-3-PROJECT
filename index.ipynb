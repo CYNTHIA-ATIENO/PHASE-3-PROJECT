{
 "cells": [
  {
   "cell_type": "markdown",
   "metadata": {},
   "source": [
    "## BUSINESS UNDERSTANDING"
   ]
  },
  {
   "cell_type": "markdown",
   "metadata": {},
   "source": [
    "SyriaTel is a telecommunications company based in Syria. It is one of the largest and most established telecom providers in the country. SyriaTel offers a range of services, including:\n",
    "\n",
    "Mobile Telephony: Providing cellular services such as voice calls, text messaging, and mobile internet.\n",
    "\n",
    "Fixed-Line Services: Offering traditional landline phone services.\n",
    "\n",
    "Internet Services: Including broadband and data services for both residential and business customers.\n",
    "\n",
    "Value-Added Services: Such as mobile banking, entertainment services, and other digital solutions.\n",
    "\n",
    "SyriaTel plays a crucial role in the telecommunications infrastructure of Syria, serving a broad customer base and contributing to the connectivity and communication needs of individuals and businesses in the region."
   ]
  },
  {
   "cell_type": "markdown",
   "metadata": {},
   "source": [
    "### 1. Load and Explore Your Data"
   ]
  },
  {
   "cell_type": "code",
   "execution_count": 896,
   "metadata": {},
   "outputs": [],
   "source": [
    "##Import Relevant Libraries\n",
    "import numpy as np \n",
    "import pandas as pd \n",
    "import matplotlib.pyplot as plt\n",
    "import seaborn as sns \n",
    "%matplotlib inline"
   ]
  },
  {
   "cell_type": "code",
   "execution_count": 897,
   "metadata": {},
   "outputs": [
    {
     "name": "stdout",
     "output_type": "stream",
     "text": [
      "     state  account length  area code phone number international plan  \\\n",
      "0       KS             128        415     382-4657                 no   \n",
      "1       OH             107        415     371-7191                 no   \n",
      "2       NJ             137        415     358-1921                 no   \n",
      "3       OH              84        408     375-9999                yes   \n",
      "4       OK              75        415     330-6626                yes   \n",
      "...    ...             ...        ...          ...                ...   \n",
      "3328    AZ             192        415     414-4276                 no   \n",
      "3329    WV              68        415     370-3271                 no   \n",
      "3330    RI              28        510     328-8230                 no   \n",
      "3331    CT             184        510     364-6381                yes   \n",
      "3332    TN              74        415     400-4344                 no   \n",
      "\n",
      "     voice mail plan  number vmail messages  total day minutes  \\\n",
      "0                yes                     25              265.1   \n",
      "1                yes                     26              161.6   \n",
      "2                 no                      0              243.4   \n",
      "3                 no                      0              299.4   \n",
      "4                 no                      0              166.7   \n",
      "...              ...                    ...                ...   \n",
      "3328             yes                     36              156.2   \n",
      "3329              no                      0              231.1   \n",
      "3330              no                      0              180.8   \n",
      "3331              no                      0              213.8   \n",
      "3332             yes                     25              234.4   \n",
      "\n",
      "      total day calls  total day charge  ...  total eve calls  \\\n",
      "0                 110             45.07  ...               99   \n",
      "1                 123             27.47  ...              103   \n",
      "2                 114             41.38  ...              110   \n",
      "3                  71             50.90  ...               88   \n",
      "4                 113             28.34  ...              122   \n",
      "...               ...               ...  ...              ...   \n",
      "3328               77             26.55  ...              126   \n",
      "3329               57             39.29  ...               55   \n",
      "3330              109             30.74  ...               58   \n",
      "3331              105             36.35  ...               84   \n",
      "3332              113             39.85  ...               82   \n",
      "\n",
      "      total eve charge  total night minutes  total night calls  \\\n",
      "0                16.78                244.7                 91   \n",
      "1                16.62                254.4                103   \n",
      "2                10.30                162.6                104   \n",
      "3                 5.26                196.9                 89   \n",
      "4                12.61                186.9                121   \n",
      "...                ...                  ...                ...   \n",
      "3328             18.32                279.1                 83   \n",
      "3329             13.04                191.3                123   \n",
      "3330             24.55                191.9                 91   \n",
      "3331             13.57                139.2                137   \n",
      "3332             22.60                241.4                 77   \n",
      "\n",
      "      total night charge  total intl minutes  total intl calls  \\\n",
      "0                  11.01                10.0                 3   \n",
      "1                  11.45                13.7                 3   \n",
      "2                   7.32                12.2                 5   \n",
      "3                   8.86                 6.6                 7   \n",
      "4                   8.41                10.1                 3   \n",
      "...                  ...                 ...               ...   \n",
      "3328               12.56                 9.9                 6   \n",
      "3329                8.61                 9.6                 4   \n",
      "3330                8.64                14.1                 6   \n",
      "3331                6.26                 5.0                10   \n",
      "3332               10.86                13.7                 4   \n",
      "\n",
      "      total intl charge  customer service calls  churn  \n",
      "0                  2.70                       1  False  \n",
      "1                  3.70                       1  False  \n",
      "2                  3.29                       0  False  \n",
      "3                  1.78                       2  False  \n",
      "4                  2.73                       3  False  \n",
      "...                 ...                     ...    ...  \n",
      "3328               2.67                       2  False  \n",
      "3329               2.59                       3  False  \n",
      "3330               3.81                       2  False  \n",
      "3331               1.35                       2  False  \n",
      "3332               3.70                       0  False  \n",
      "\n",
      "[3333 rows x 21 columns]\n"
     ]
    }
   ],
   "source": [
    "##Import dataset \n",
    "df = pd.read_csv(r'C:\\Users\\David\\PHASE 3 PROJECT\\PHASE-3-PROJECT\\bigml_59c28831336c6604c800002a.csv')  \n",
    "print(df)"
   ]
  },
  {
   "cell_type": "markdown",
   "metadata": {},
   "source": [
    "### 2.Exploratory data analysis(EDA)"
   ]
  },
  {
   "cell_type": "code",
   "execution_count": 898,
   "metadata": {},
   "outputs": [
    {
     "data": {
      "text/plain": [
       "(3333, 21)"
      ]
     },
     "execution_count": 898,
     "metadata": {},
     "output_type": "execute_result"
    }
   ],
   "source": [
    "# view dimensions of dataset\n",
    "df.shape"
   ]
  },
  {
   "cell_type": "markdown",
   "metadata": {},
   "source": [
    "There are 3333 instances and 21 variables in the data set."
   ]
  },
  {
   "cell_type": "code",
   "execution_count": 899,
   "metadata": {},
   "outputs": [
    {
     "data": {
      "text/html": [
       "<div>\n",
       "<style scoped>\n",
       "    .dataframe tbody tr th:only-of-type {\n",
       "        vertical-align: middle;\n",
       "    }\n",
       "\n",
       "    .dataframe tbody tr th {\n",
       "        vertical-align: top;\n",
       "    }\n",
       "\n",
       "    .dataframe thead th {\n",
       "        text-align: right;\n",
       "    }\n",
       "</style>\n",
       "<table border=\"1\" class=\"dataframe\">\n",
       "  <thead>\n",
       "    <tr style=\"text-align: right;\">\n",
       "      <th></th>\n",
       "      <th>state</th>\n",
       "      <th>account length</th>\n",
       "      <th>area code</th>\n",
       "      <th>phone number</th>\n",
       "      <th>international plan</th>\n",
       "      <th>voice mail plan</th>\n",
       "      <th>number vmail messages</th>\n",
       "      <th>total day minutes</th>\n",
       "      <th>total day calls</th>\n",
       "      <th>total day charge</th>\n",
       "      <th>...</th>\n",
       "      <th>total eve calls</th>\n",
       "      <th>total eve charge</th>\n",
       "      <th>total night minutes</th>\n",
       "      <th>total night calls</th>\n",
       "      <th>total night charge</th>\n",
       "      <th>total intl minutes</th>\n",
       "      <th>total intl calls</th>\n",
       "      <th>total intl charge</th>\n",
       "      <th>customer service calls</th>\n",
       "      <th>churn</th>\n",
       "    </tr>\n",
       "  </thead>\n",
       "  <tbody>\n",
       "    <tr>\n",
       "      <th>0</th>\n",
       "      <td>KS</td>\n",
       "      <td>128</td>\n",
       "      <td>415</td>\n",
       "      <td>382-4657</td>\n",
       "      <td>no</td>\n",
       "      <td>yes</td>\n",
       "      <td>25</td>\n",
       "      <td>265.1</td>\n",
       "      <td>110</td>\n",
       "      <td>45.07</td>\n",
       "      <td>...</td>\n",
       "      <td>99</td>\n",
       "      <td>16.78</td>\n",
       "      <td>244.7</td>\n",
       "      <td>91</td>\n",
       "      <td>11.01</td>\n",
       "      <td>10.0</td>\n",
       "      <td>3</td>\n",
       "      <td>2.70</td>\n",
       "      <td>1</td>\n",
       "      <td>False</td>\n",
       "    </tr>\n",
       "    <tr>\n",
       "      <th>1</th>\n",
       "      <td>OH</td>\n",
       "      <td>107</td>\n",
       "      <td>415</td>\n",
       "      <td>371-7191</td>\n",
       "      <td>no</td>\n",
       "      <td>yes</td>\n",
       "      <td>26</td>\n",
       "      <td>161.6</td>\n",
       "      <td>123</td>\n",
       "      <td>27.47</td>\n",
       "      <td>...</td>\n",
       "      <td>103</td>\n",
       "      <td>16.62</td>\n",
       "      <td>254.4</td>\n",
       "      <td>103</td>\n",
       "      <td>11.45</td>\n",
       "      <td>13.7</td>\n",
       "      <td>3</td>\n",
       "      <td>3.70</td>\n",
       "      <td>1</td>\n",
       "      <td>False</td>\n",
       "    </tr>\n",
       "    <tr>\n",
       "      <th>2</th>\n",
       "      <td>NJ</td>\n",
       "      <td>137</td>\n",
       "      <td>415</td>\n",
       "      <td>358-1921</td>\n",
       "      <td>no</td>\n",
       "      <td>no</td>\n",
       "      <td>0</td>\n",
       "      <td>243.4</td>\n",
       "      <td>114</td>\n",
       "      <td>41.38</td>\n",
       "      <td>...</td>\n",
       "      <td>110</td>\n",
       "      <td>10.30</td>\n",
       "      <td>162.6</td>\n",
       "      <td>104</td>\n",
       "      <td>7.32</td>\n",
       "      <td>12.2</td>\n",
       "      <td>5</td>\n",
       "      <td>3.29</td>\n",
       "      <td>0</td>\n",
       "      <td>False</td>\n",
       "    </tr>\n",
       "    <tr>\n",
       "      <th>3</th>\n",
       "      <td>OH</td>\n",
       "      <td>84</td>\n",
       "      <td>408</td>\n",
       "      <td>375-9999</td>\n",
       "      <td>yes</td>\n",
       "      <td>no</td>\n",
       "      <td>0</td>\n",
       "      <td>299.4</td>\n",
       "      <td>71</td>\n",
       "      <td>50.90</td>\n",
       "      <td>...</td>\n",
       "      <td>88</td>\n",
       "      <td>5.26</td>\n",
       "      <td>196.9</td>\n",
       "      <td>89</td>\n",
       "      <td>8.86</td>\n",
       "      <td>6.6</td>\n",
       "      <td>7</td>\n",
       "      <td>1.78</td>\n",
       "      <td>2</td>\n",
       "      <td>False</td>\n",
       "    </tr>\n",
       "    <tr>\n",
       "      <th>4</th>\n",
       "      <td>OK</td>\n",
       "      <td>75</td>\n",
       "      <td>415</td>\n",
       "      <td>330-6626</td>\n",
       "      <td>yes</td>\n",
       "      <td>no</td>\n",
       "      <td>0</td>\n",
       "      <td>166.7</td>\n",
       "      <td>113</td>\n",
       "      <td>28.34</td>\n",
       "      <td>...</td>\n",
       "      <td>122</td>\n",
       "      <td>12.61</td>\n",
       "      <td>186.9</td>\n",
       "      <td>121</td>\n",
       "      <td>8.41</td>\n",
       "      <td>10.1</td>\n",
       "      <td>3</td>\n",
       "      <td>2.73</td>\n",
       "      <td>3</td>\n",
       "      <td>False</td>\n",
       "    </tr>\n",
       "  </tbody>\n",
       "</table>\n",
       "<p>5 rows × 21 columns</p>\n",
       "</div>"
      ],
      "text/plain": [
       "  state  account length  area code phone number international plan  \\\n",
       "0    KS             128        415     382-4657                 no   \n",
       "1    OH             107        415     371-7191                 no   \n",
       "2    NJ             137        415     358-1921                 no   \n",
       "3    OH              84        408     375-9999                yes   \n",
       "4    OK              75        415     330-6626                yes   \n",
       "\n",
       "  voice mail plan  number vmail messages  total day minutes  total day calls  \\\n",
       "0             yes                     25              265.1              110   \n",
       "1             yes                     26              161.6              123   \n",
       "2              no                      0              243.4              114   \n",
       "3              no                      0              299.4               71   \n",
       "4              no                      0              166.7              113   \n",
       "\n",
       "   total day charge  ...  total eve calls  total eve charge  \\\n",
       "0             45.07  ...               99             16.78   \n",
       "1             27.47  ...              103             16.62   \n",
       "2             41.38  ...              110             10.30   \n",
       "3             50.90  ...               88              5.26   \n",
       "4             28.34  ...              122             12.61   \n",
       "\n",
       "   total night minutes  total night calls  total night charge  \\\n",
       "0                244.7                 91               11.01   \n",
       "1                254.4                103               11.45   \n",
       "2                162.6                104                7.32   \n",
       "3                196.9                 89                8.86   \n",
       "4                186.9                121                8.41   \n",
       "\n",
       "   total intl minutes  total intl calls  total intl charge  \\\n",
       "0                10.0                 3               2.70   \n",
       "1                13.7                 3               3.70   \n",
       "2                12.2                 5               3.29   \n",
       "3                 6.6                 7               1.78   \n",
       "4                10.1                 3               2.73   \n",
       "\n",
       "   customer service calls  churn  \n",
       "0                       1  False  \n",
       "1                       1  False  \n",
       "2                       0  False  \n",
       "3                       2  False  \n",
       "4                       3  False  \n",
       "\n",
       "[5 rows x 21 columns]"
      ]
     },
     "execution_count": 899,
     "metadata": {},
     "output_type": "execute_result"
    }
   ],
   "source": [
    "# preview the dataset\n",
    "df.head()"
   ]
  },
  {
   "cell_type": "markdown",
   "metadata": {},
   "source": [
    "###  Display basic information"
   ]
  },
  {
   "cell_type": "code",
   "execution_count": 900,
   "metadata": {},
   "outputs": [
    {
     "name": "stdout",
     "output_type": "stream",
     "text": [
      "state                      object\n",
      "account length              int64\n",
      "area code                   int64\n",
      "phone number               object\n",
      "international plan         object\n",
      "voice mail plan            object\n",
      "number vmail messages       int64\n",
      "total day minutes         float64\n",
      "total day calls             int64\n",
      "total day charge          float64\n",
      "total eve minutes         float64\n",
      "total eve calls             int64\n",
      "total eve charge          float64\n",
      "total night minutes       float64\n",
      "total night calls           int64\n",
      "total night charge        float64\n",
      "total intl minutes        float64\n",
      "total intl calls            int64\n",
      "total intl charge         float64\n",
      "customer service calls      int64\n",
      "churn                        bool\n",
      "dtype: object\n"
     ]
    }
   ],
   "source": [
    "# Get the data types of all columns\n",
    "print(df.dtypes)"
   ]
  },
  {
   "cell_type": "code",
   "execution_count": 901,
   "metadata": {},
   "outputs": [
    {
     "data": {
      "text/plain": [
       "Index(['state', 'account length', 'area code', 'phone number',\n",
       "       'international plan', 'voice mail plan', 'number vmail messages',\n",
       "       'total day minutes', 'total day calls', 'total day charge',\n",
       "       'total eve minutes', 'total eve calls', 'total eve charge',\n",
       "       'total night minutes', 'total night calls', 'total night charge',\n",
       "       'total intl minutes', 'total intl calls', 'total intl charge',\n",
       "       'customer service calls', 'churn'],\n",
       "      dtype='object')"
      ]
     },
     "execution_count": 901,
     "metadata": {},
     "output_type": "execute_result"
    }
   ],
   "source": [
    "#get the column names\n",
    "col_names = df.columns\n",
    "\n",
    "col_names"
   ]
  },
  {
   "cell_type": "code",
   "execution_count": 902,
   "metadata": {},
   "outputs": [
    {
     "name": "stdout",
     "output_type": "stream",
     "text": [
      "<class 'pandas.core.frame.DataFrame'>\n",
      "RangeIndex: 3333 entries, 0 to 3332\n",
      "Data columns (total 21 columns):\n",
      " #   Column                  Non-Null Count  Dtype  \n",
      "---  ------                  --------------  -----  \n",
      " 0   state                   3333 non-null   object \n",
      " 1   account length          3333 non-null   int64  \n",
      " 2   area code               3333 non-null   int64  \n",
      " 3   phone number            3333 non-null   object \n",
      " 4   international plan      3333 non-null   object \n",
      " 5   voice mail plan         3333 non-null   object \n",
      " 6   number vmail messages   3333 non-null   int64  \n",
      " 7   total day minutes       3333 non-null   float64\n",
      " 8   total day calls         3333 non-null   int64  \n",
      " 9   total day charge        3333 non-null   float64\n",
      " 10  total eve minutes       3333 non-null   float64\n",
      " 11  total eve calls         3333 non-null   int64  \n",
      " 12  total eve charge        3333 non-null   float64\n",
      " 13  total night minutes     3333 non-null   float64\n",
      " 14  total night calls       3333 non-null   int64  \n",
      " 15  total night charge      3333 non-null   float64\n",
      " 16  total intl minutes      3333 non-null   float64\n",
      " 17  total intl calls        3333 non-null   int64  \n",
      " 18  total intl charge       3333 non-null   float64\n",
      " 19  customer service calls  3333 non-null   int64  \n",
      " 20  churn                   3333 non-null   bool   \n",
      "dtypes: bool(1), float64(8), int64(8), object(4)\n",
      "memory usage: 524.2+ KB\n"
     ]
    }
   ],
   "source": [
    "df.info()"
   ]
  },
  {
   "cell_type": "code",
   "execution_count": 903,
   "metadata": {},
   "outputs": [
    {
     "data": {
      "text/html": [
       "<div>\n",
       "<style scoped>\n",
       "    .dataframe tbody tr th:only-of-type {\n",
       "        vertical-align: middle;\n",
       "    }\n",
       "\n",
       "    .dataframe tbody tr th {\n",
       "        vertical-align: top;\n",
       "    }\n",
       "\n",
       "    .dataframe thead th {\n",
       "        text-align: right;\n",
       "    }\n",
       "</style>\n",
       "<table border=\"1\" class=\"dataframe\">\n",
       "  <thead>\n",
       "    <tr style=\"text-align: right;\">\n",
       "      <th></th>\n",
       "      <th>account length</th>\n",
       "      <th>area code</th>\n",
       "      <th>number vmail messages</th>\n",
       "      <th>total day minutes</th>\n",
       "      <th>total day calls</th>\n",
       "      <th>total day charge</th>\n",
       "      <th>total eve minutes</th>\n",
       "      <th>total eve calls</th>\n",
       "      <th>total eve charge</th>\n",
       "      <th>total night minutes</th>\n",
       "      <th>total night calls</th>\n",
       "      <th>total night charge</th>\n",
       "      <th>total intl minutes</th>\n",
       "      <th>total intl calls</th>\n",
       "      <th>total intl charge</th>\n",
       "      <th>customer service calls</th>\n",
       "    </tr>\n",
       "  </thead>\n",
       "  <tbody>\n",
       "    <tr>\n",
       "      <th>count</th>\n",
       "      <td>3333.000000</td>\n",
       "      <td>3333.000000</td>\n",
       "      <td>3333.000000</td>\n",
       "      <td>3333.000000</td>\n",
       "      <td>3333.000000</td>\n",
       "      <td>3333.000000</td>\n",
       "      <td>3333.000000</td>\n",
       "      <td>3333.000000</td>\n",
       "      <td>3333.000000</td>\n",
       "      <td>3333.000000</td>\n",
       "      <td>3333.000000</td>\n",
       "      <td>3333.000000</td>\n",
       "      <td>3333.000000</td>\n",
       "      <td>3333.000000</td>\n",
       "      <td>3333.000000</td>\n",
       "      <td>3333.000000</td>\n",
       "    </tr>\n",
       "    <tr>\n",
       "      <th>mean</th>\n",
       "      <td>101.064806</td>\n",
       "      <td>437.182418</td>\n",
       "      <td>8.099010</td>\n",
       "      <td>179.775098</td>\n",
       "      <td>100.435644</td>\n",
       "      <td>30.562307</td>\n",
       "      <td>200.980348</td>\n",
       "      <td>100.114311</td>\n",
       "      <td>17.083540</td>\n",
       "      <td>200.872037</td>\n",
       "      <td>100.107711</td>\n",
       "      <td>9.039325</td>\n",
       "      <td>10.237294</td>\n",
       "      <td>4.479448</td>\n",
       "      <td>2.764581</td>\n",
       "      <td>1.562856</td>\n",
       "    </tr>\n",
       "    <tr>\n",
       "      <th>std</th>\n",
       "      <td>39.822106</td>\n",
       "      <td>42.371290</td>\n",
       "      <td>13.688365</td>\n",
       "      <td>54.467389</td>\n",
       "      <td>20.069084</td>\n",
       "      <td>9.259435</td>\n",
       "      <td>50.713844</td>\n",
       "      <td>19.922625</td>\n",
       "      <td>4.310668</td>\n",
       "      <td>50.573847</td>\n",
       "      <td>19.568609</td>\n",
       "      <td>2.275873</td>\n",
       "      <td>2.791840</td>\n",
       "      <td>2.461214</td>\n",
       "      <td>0.753773</td>\n",
       "      <td>1.315491</td>\n",
       "    </tr>\n",
       "    <tr>\n",
       "      <th>min</th>\n",
       "      <td>1.000000</td>\n",
       "      <td>408.000000</td>\n",
       "      <td>0.000000</td>\n",
       "      <td>0.000000</td>\n",
       "      <td>0.000000</td>\n",
       "      <td>0.000000</td>\n",
       "      <td>0.000000</td>\n",
       "      <td>0.000000</td>\n",
       "      <td>0.000000</td>\n",
       "      <td>23.200000</td>\n",
       "      <td>33.000000</td>\n",
       "      <td>1.040000</td>\n",
       "      <td>0.000000</td>\n",
       "      <td>0.000000</td>\n",
       "      <td>0.000000</td>\n",
       "      <td>0.000000</td>\n",
       "    </tr>\n",
       "    <tr>\n",
       "      <th>25%</th>\n",
       "      <td>74.000000</td>\n",
       "      <td>408.000000</td>\n",
       "      <td>0.000000</td>\n",
       "      <td>143.700000</td>\n",
       "      <td>87.000000</td>\n",
       "      <td>24.430000</td>\n",
       "      <td>166.600000</td>\n",
       "      <td>87.000000</td>\n",
       "      <td>14.160000</td>\n",
       "      <td>167.000000</td>\n",
       "      <td>87.000000</td>\n",
       "      <td>7.520000</td>\n",
       "      <td>8.500000</td>\n",
       "      <td>3.000000</td>\n",
       "      <td>2.300000</td>\n",
       "      <td>1.000000</td>\n",
       "    </tr>\n",
       "    <tr>\n",
       "      <th>50%</th>\n",
       "      <td>101.000000</td>\n",
       "      <td>415.000000</td>\n",
       "      <td>0.000000</td>\n",
       "      <td>179.400000</td>\n",
       "      <td>101.000000</td>\n",
       "      <td>30.500000</td>\n",
       "      <td>201.400000</td>\n",
       "      <td>100.000000</td>\n",
       "      <td>17.120000</td>\n",
       "      <td>201.200000</td>\n",
       "      <td>100.000000</td>\n",
       "      <td>9.050000</td>\n",
       "      <td>10.300000</td>\n",
       "      <td>4.000000</td>\n",
       "      <td>2.780000</td>\n",
       "      <td>1.000000</td>\n",
       "    </tr>\n",
       "    <tr>\n",
       "      <th>75%</th>\n",
       "      <td>127.000000</td>\n",
       "      <td>510.000000</td>\n",
       "      <td>20.000000</td>\n",
       "      <td>216.400000</td>\n",
       "      <td>114.000000</td>\n",
       "      <td>36.790000</td>\n",
       "      <td>235.300000</td>\n",
       "      <td>114.000000</td>\n",
       "      <td>20.000000</td>\n",
       "      <td>235.300000</td>\n",
       "      <td>113.000000</td>\n",
       "      <td>10.590000</td>\n",
       "      <td>12.100000</td>\n",
       "      <td>6.000000</td>\n",
       "      <td>3.270000</td>\n",
       "      <td>2.000000</td>\n",
       "    </tr>\n",
       "    <tr>\n",
       "      <th>max</th>\n",
       "      <td>243.000000</td>\n",
       "      <td>510.000000</td>\n",
       "      <td>51.000000</td>\n",
       "      <td>350.800000</td>\n",
       "      <td>165.000000</td>\n",
       "      <td>59.640000</td>\n",
       "      <td>363.700000</td>\n",
       "      <td>170.000000</td>\n",
       "      <td>30.910000</td>\n",
       "      <td>395.000000</td>\n",
       "      <td>175.000000</td>\n",
       "      <td>17.770000</td>\n",
       "      <td>20.000000</td>\n",
       "      <td>20.000000</td>\n",
       "      <td>5.400000</td>\n",
       "      <td>9.000000</td>\n",
       "    </tr>\n",
       "  </tbody>\n",
       "</table>\n",
       "</div>"
      ],
      "text/plain": [
       "       account length    area code  number vmail messages  total day minutes  \\\n",
       "count     3333.000000  3333.000000            3333.000000        3333.000000   \n",
       "mean       101.064806   437.182418               8.099010         179.775098   \n",
       "std         39.822106    42.371290              13.688365          54.467389   \n",
       "min          1.000000   408.000000               0.000000           0.000000   \n",
       "25%         74.000000   408.000000               0.000000         143.700000   \n",
       "50%        101.000000   415.000000               0.000000         179.400000   \n",
       "75%        127.000000   510.000000              20.000000         216.400000   \n",
       "max        243.000000   510.000000              51.000000         350.800000   \n",
       "\n",
       "       total day calls  total day charge  total eve minutes  total eve calls  \\\n",
       "count      3333.000000       3333.000000        3333.000000      3333.000000   \n",
       "mean        100.435644         30.562307         200.980348       100.114311   \n",
       "std          20.069084          9.259435          50.713844        19.922625   \n",
       "min           0.000000          0.000000           0.000000         0.000000   \n",
       "25%          87.000000         24.430000         166.600000        87.000000   \n",
       "50%         101.000000         30.500000         201.400000       100.000000   \n",
       "75%         114.000000         36.790000         235.300000       114.000000   \n",
       "max         165.000000         59.640000         363.700000       170.000000   \n",
       "\n",
       "       total eve charge  total night minutes  total night calls  \\\n",
       "count       3333.000000          3333.000000        3333.000000   \n",
       "mean          17.083540           200.872037         100.107711   \n",
       "std            4.310668            50.573847          19.568609   \n",
       "min            0.000000            23.200000          33.000000   \n",
       "25%           14.160000           167.000000          87.000000   \n",
       "50%           17.120000           201.200000         100.000000   \n",
       "75%           20.000000           235.300000         113.000000   \n",
       "max           30.910000           395.000000         175.000000   \n",
       "\n",
       "       total night charge  total intl minutes  total intl calls  \\\n",
       "count         3333.000000         3333.000000       3333.000000   \n",
       "mean             9.039325           10.237294          4.479448   \n",
       "std              2.275873            2.791840          2.461214   \n",
       "min              1.040000            0.000000          0.000000   \n",
       "25%              7.520000            8.500000          3.000000   \n",
       "50%              9.050000           10.300000          4.000000   \n",
       "75%             10.590000           12.100000          6.000000   \n",
       "max             17.770000           20.000000         20.000000   \n",
       "\n",
       "       total intl charge  customer service calls  \n",
       "count        3333.000000             3333.000000  \n",
       "mean            2.764581                1.562856  \n",
       "std             0.753773                1.315491  \n",
       "min             0.000000                0.000000  \n",
       "25%             2.300000                1.000000  \n",
       "50%             2.780000                1.000000  \n",
       "75%             3.270000                2.000000  \n",
       "max             5.400000                9.000000  "
      ]
     },
     "execution_count": 903,
     "metadata": {},
     "output_type": "execute_result"
    }
   ],
   "source": [
    "#summary of the statistics of the numerical columns\n",
    "df.describe()"
   ]
  },
  {
   "cell_type": "code",
   "execution_count": 904,
   "metadata": {},
   "outputs": [
    {
     "name": "stdout",
     "output_type": "stream",
     "text": [
      "There are 17 numerical variables\n",
      "\n",
      "The numerical variables are : ['account length', 'area code', 'number vmail messages', 'total day minutes', 'total day calls', 'total day charge', 'total eve minutes', 'total eve calls', 'total eve charge', 'total night minutes', 'total night calls', 'total night charge', 'total intl minutes', 'total intl calls', 'total intl charge', 'customer service calls', 'churn']\n"
     ]
    }
   ],
   "source": [
    "#find numerical variables\n",
    "numerical = [var for var in df.columns if df[var].dtype!='O']\n",
    "\n",
    "print('There are {} numerical variables\\n'.format(len(numerical)))\n",
    "\n",
    "print('The numerical variables are :', numerical)"
   ]
  },
  {
   "cell_type": "markdown",
   "metadata": {},
   "source": [
    "There are 17 numerical variables in the dataset"
   ]
  },
  {
   "cell_type": "code",
   "execution_count": 905,
   "metadata": {},
   "outputs": [
    {
     "name": "stdout",
     "output_type": "stream",
     "text": [
      "There are 4 categorical variables\n",
      "\n",
      "The categorical variables are : ['state', 'phone number', 'international plan', 'voice mail plan']\n"
     ]
    }
   ],
   "source": [
    "#find categorical variables\n",
    "\n",
    "categorical = [var for var in df.columns if df[var].dtype=='O']\n",
    "\n",
    "print('There are {} categorical variables\\n'.format(len(categorical)))\n",
    "\n",
    "print('The categorical variables are :', categorical)"
   ]
  },
  {
   "cell_type": "code",
   "execution_count": 906,
   "metadata": {},
   "outputs": [
    {
     "data": {
      "text/html": [
       "<div>\n",
       "<style scoped>\n",
       "    .dataframe tbody tr th:only-of-type {\n",
       "        vertical-align: middle;\n",
       "    }\n",
       "\n",
       "    .dataframe tbody tr th {\n",
       "        vertical-align: top;\n",
       "    }\n",
       "\n",
       "    .dataframe thead th {\n",
       "        text-align: right;\n",
       "    }\n",
       "</style>\n",
       "<table border=\"1\" class=\"dataframe\">\n",
       "  <thead>\n",
       "    <tr style=\"text-align: right;\">\n",
       "      <th></th>\n",
       "      <th>state</th>\n",
       "      <th>phone number</th>\n",
       "      <th>international plan</th>\n",
       "      <th>voice mail plan</th>\n",
       "    </tr>\n",
       "  </thead>\n",
       "  <tbody>\n",
       "    <tr>\n",
       "      <th>0</th>\n",
       "      <td>KS</td>\n",
       "      <td>382-4657</td>\n",
       "      <td>no</td>\n",
       "      <td>yes</td>\n",
       "    </tr>\n",
       "    <tr>\n",
       "      <th>1</th>\n",
       "      <td>OH</td>\n",
       "      <td>371-7191</td>\n",
       "      <td>no</td>\n",
       "      <td>yes</td>\n",
       "    </tr>\n",
       "    <tr>\n",
       "      <th>2</th>\n",
       "      <td>NJ</td>\n",
       "      <td>358-1921</td>\n",
       "      <td>no</td>\n",
       "      <td>no</td>\n",
       "    </tr>\n",
       "    <tr>\n",
       "      <th>3</th>\n",
       "      <td>OH</td>\n",
       "      <td>375-9999</td>\n",
       "      <td>yes</td>\n",
       "      <td>no</td>\n",
       "    </tr>\n",
       "    <tr>\n",
       "      <th>4</th>\n",
       "      <td>OK</td>\n",
       "      <td>330-6626</td>\n",
       "      <td>yes</td>\n",
       "      <td>no</td>\n",
       "    </tr>\n",
       "  </tbody>\n",
       "</table>\n",
       "</div>"
      ],
      "text/plain": [
       "  state phone number international plan voice mail plan\n",
       "0    KS     382-4657                 no             yes\n",
       "1    OH     371-7191                 no             yes\n",
       "2    NJ     358-1921                 no              no\n",
       "3    OH     375-9999                yes              no\n",
       "4    OK     330-6626                yes              no"
      ]
     },
     "execution_count": 906,
     "metadata": {},
     "output_type": "execute_result"
    }
   ],
   "source": [
    "# view the categorical variables\n",
    "\n",
    "df[categorical].head()"
   ]
  },
  {
   "cell_type": "markdown",
   "metadata": {},
   "source": [
    "### Preprocess Data"
   ]
  },
  {
   "cell_type": "markdown",
   "metadata": {},
   "source": [
    "a) Handling Missing Values"
   ]
  },
  {
   "cell_type": "code",
   "execution_count": 907,
   "metadata": {},
   "outputs": [
    {
     "data": {
      "text/plain": [
       "state                 0\n",
       "phone number          0\n",
       "international plan    0\n",
       "voice mail plan       0\n",
       "dtype: int64"
      ]
     },
     "execution_count": 907,
     "metadata": {},
     "output_type": "execute_result"
    }
   ],
   "source": [
    "# check missing values in categorical variables\n",
    "df[categorical].isnull().sum()"
   ]
  },
  {
   "cell_type": "markdown",
   "metadata": {},
   "source": [
    "Summary of categorical variables\n",
    "\n",
    "There are 4 categorical variables. These are given by state,international plan,voice mail plan and phone number.\n",
    "\n",
    "There are two binary categorical variables - international plan and voice mail plan.\n",
    "\n",
    "churn is the target variable."
   ]
  },
  {
   "cell_type": "markdown",
   "metadata": {},
   "source": [
    "There are no missing values in categorical variable."
   ]
  },
  {
   "cell_type": "markdown",
   "metadata": {},
   "source": [
    "#### b). Number of labels: cardinality"
   ]
  },
  {
   "cell_type": "markdown",
   "metadata": {},
   "source": [
    "High cardinality may pose some serious problems in the machine learning model. So, I will check for high cardinality."
   ]
  },
  {
   "cell_type": "code",
   "execution_count": 908,
   "metadata": {},
   "outputs": [
    {
     "name": "stdout",
     "output_type": "stream",
     "text": [
      "state  contains  51  labels\n",
      "phone number  contains  3333  labels\n",
      "international plan  contains  2  labels\n",
      "voice mail plan  contains  2  labels\n"
     ]
    }
   ],
   "source": [
    "# check for cardinality in categorical variables\n",
    "\n",
    "for var in categorical:\n",
    "    \n",
    "    print(var, ' contains ', len(df[var].unique()), ' labels')"
   ]
  },
  {
   "cell_type": "markdown",
   "metadata": {},
   "source": [
    "We can see that there is a phone number variable which needs to be preprocessed. If a phone number field has the highest cardinality (i.e., each phone number is unique or nearly unique), it presents challenges for preprocessing, especially for machine learning models where high cardinality features can lead to inefficiencies and overfitting\n",
    "\n",
    "All the other variables contain relatively smaller number of variables.\n",
    "I will drop the phone number since its usually not used directly in analysis, as it’s a unique identifier rather than a predictive feature."
   ]
  },
  {
   "cell_type": "code",
   "execution_count": 909,
   "metadata": {},
   "outputs": [],
   "source": [
    "# Drop the 'phone number' column from the DataFrame\n",
    "df = df.drop(columns=['phone number'])"
   ]
  },
  {
   "cell_type": "markdown",
   "metadata": {},
   "source": [
    "#### c) Encoding Categorical Variables"
   ]
  },
  {
   "cell_type": "markdown",
   "metadata": {},
   "source": [
    "Convert categorical variables into numerical format using one-hot encoding:"
   ]
  },
  {
   "cell_type": "code",
   "execution_count": 910,
   "metadata": {},
   "outputs": [],
   "source": [
    "# Convert categorical variables to dummy variables\n",
    "df_encoded = pd.get_dummies(df, columns=['state', 'area code', 'international plan', 'voice mail plan'])\n"
   ]
  },
  {
   "cell_type": "code",
   "execution_count": 911,
   "metadata": {},
   "outputs": [
    {
     "name": "stdout",
     "output_type": "stream",
     "text": [
      "     state  account length  area code international plan voice mail plan  \\\n",
      "0       KS        0.676489        415                 no             yes   \n",
      "1       OH        0.149065        415                 no             yes   \n",
      "2       NJ        0.902529        415                 no              no   \n",
      "3       OH       -0.428590        408                yes              no   \n",
      "4       OK       -0.654629        415                yes              no   \n",
      "...    ...             ...        ...                ...             ...   \n",
      "3328    AZ        2.283878        415                 no             yes   \n",
      "3329    WV       -0.830437        415                 no              no   \n",
      "3330    RI       -1.835055        510                 no              no   \n",
      "3331    CT        2.082955        510                yes              no   \n",
      "3332    TN       -0.679745        415                 no             yes   \n",
      "\n",
      "      number vmail messages  total day minutes  total day calls  \\\n",
      "0                        25              265.1              110   \n",
      "1                        26              161.6              123   \n",
      "2                         0              243.4              114   \n",
      "3                         0              299.4               71   \n",
      "4                         0              166.7              113   \n",
      "...                     ...                ...              ...   \n",
      "3328                     36              156.2               77   \n",
      "3329                      0              231.1               57   \n",
      "3330                      0              180.8              109   \n",
      "3331                      0              213.8              105   \n",
      "3332                     25              234.4              113   \n",
      "\n",
      "      total day charge  total eve minutes  total eve calls  total eve charge  \\\n",
      "0                45.07              197.4               99             16.78   \n",
      "1                27.47              195.5              103             16.62   \n",
      "2                41.38              121.2              110             10.30   \n",
      "3                50.90               61.9               88              5.26   \n",
      "4                28.34              148.3              122             12.61   \n",
      "...                ...                ...              ...               ...   \n",
      "3328             26.55              215.5              126             18.32   \n",
      "3329             39.29              153.4               55             13.04   \n",
      "3330             30.74              288.8               58             24.55   \n",
      "3331             36.35              159.6               84             13.57   \n",
      "3332             39.85              265.9               82             22.60   \n",
      "\n",
      "      total night minutes  total night calls  total night charge  \\\n",
      "0                   244.7                 91               11.01   \n",
      "1                   254.4                103               11.45   \n",
      "2                   162.6                104                7.32   \n",
      "3                   196.9                 89                8.86   \n",
      "4                   186.9                121                8.41   \n",
      "...                   ...                ...                 ...   \n",
      "3328                279.1                 83               12.56   \n",
      "3329                191.3                123                8.61   \n",
      "3330                191.9                 91                8.64   \n",
      "3331                139.2                137                6.26   \n",
      "3332                241.4                 77               10.86   \n",
      "\n",
      "      total intl minutes  total intl calls  total intl charge  \\\n",
      "0                   10.0                 3               2.70   \n",
      "1                   13.7                 3               3.70   \n",
      "2                   12.2                 5               3.29   \n",
      "3                    6.6                 7               1.78   \n",
      "4                   10.1                 3               2.73   \n",
      "...                  ...               ...                ...   \n",
      "3328                 9.9                 6               2.67   \n",
      "3329                 9.6                 4               2.59   \n",
      "3330                14.1                 6               3.81   \n",
      "3331                 5.0                10               1.35   \n",
      "3332                13.7                 4               3.70   \n",
      "\n",
      "      customer service calls  churn  \n",
      "0                          1  False  \n",
      "1                          1  False  \n",
      "2                          0  False  \n",
      "3                          2  False  \n",
      "4                          3  False  \n",
      "...                      ...    ...  \n",
      "3328                       2  False  \n",
      "3329                       3  False  \n",
      "3330                       2  False  \n",
      "3331                       2  False  \n",
      "3332                       0  False  \n",
      "\n",
      "[3333 rows x 20 columns]\n"
     ]
    }
   ],
   "source": [
    "# scale numeric features\n",
    "scaler = StandardScaler()\n",
    "df[['account length']] = scaler.fit_transform(df[['account length']])\n",
    "\n",
    "print(df)"
   ]
  },
  {
   "cell_type": "markdown",
   "metadata": {},
   "source": [
    "c. Separate Features and Target Variable"
   ]
  },
  {
   "cell_type": "code",
   "execution_count": 912,
   "metadata": {},
   "outputs": [],
   "source": [
    "# Define features and target variable\n",
    "X = df_encoded.drop(columns=['churn'])\n",
    "y = df_encoded['churn']\n"
   ]
  },
  {
   "cell_type": "markdown",
   "metadata": {},
   "source": [
    "d. Normalize/Scale Numeric Features "
   ]
  },
  {
   "cell_type": "markdown",
   "metadata": {},
   "source": [
    "Scaling numeric features can improve the performance of some models:"
   ]
  },
  {
   "cell_type": "code",
   "execution_count": 913,
   "metadata": {},
   "outputs": [],
   "source": [
    "from sklearn.preprocessing import StandardScaler\n",
    "\n",
    "# Select numeric columns for scaling\n",
    "numeric_features = ['account length', 'number vmail messages', 'total day minutes', 'total day calls', 'total day charge',\n",
    "                    'total eve minutes', 'total eve calls', 'total eve charge', 'total night minutes', 'total night calls',\n",
    "                    'total night charge', 'total intl minutes', 'total intl calls', 'total intl charge', 'customer service calls']\n",
    "\n",
    "# Initialize the scaler\n",
    "scaler = StandardScaler()\n",
    "\n",
    "# Fit and transform the numeric features\n",
    "X[numeric_features] = scaler.fit_transform(X[numeric_features])\n"
   ]
  },
  {
   "cell_type": "markdown",
   "metadata": {},
   "source": [
    "### e. Check the distribution of variables"
   ]
  },
  {
   "cell_type": "code",
   "execution_count": 951,
   "metadata": {},
   "outputs": [
    {
     "data": {
      "image/png": "[encoded data removed]",
      "text/plain": [
       "<Figure size 864x720 with 4 Axes>"
      ]
     },
     "metadata": {
      "needs_background": "light"
     },
     "output_type": "display_data"
    }
   ],
   "source": [
    "# plot histogram to check distribution\n",
    "#Create a figure with 2x2 subplots\n",
    "plt.figure(figsize=(12, 10))\n",
    "\n",
    "# Plot for 'total eve calls'\n",
    "plt.subplot(2, 2, 1)\n",
    "plt.hist(df[\"total eve calls\"], bins=10, edgecolor='k', alpha=0.7)\n",
    "plt.xlabel('Total Eve Calls')\n",
    "plt.ylabel('Frequency')\n",
    "plt.title('Distribution of Total Eve Calls')\n",
    "\n",
    "# Plot for 'total eve charge'\n",
    "plt.subplot(2, 2, 2)\n",
    "plt.hist(df[\"total eve charge\"], bins=10, edgecolor='k', alpha=0.7)\n",
    "plt.xlabel('Total Eve Charge')\n",
    "plt.ylabel('Frequency')\n",
    "plt.title('Distribution of Total Eve Charge')\n",
    "\n",
    "# Plot for 'total day calls'\n",
    "plt.subplot(2, 2, 3)\n",
    "plt.hist(df[\"total day calls\"], bins=10, edgecolor='k', alpha=0.7)\n",
    "plt.xlabel('Total Day Calls')\n",
    "plt.ylabel('Frequency')\n",
    "plt.title('Distribution of Total Day Calls')\n",
    "\n",
    "# Plot for 'total day charge'\n",
    "plt.subplot(2, 2, 4)\n",
    "plt.hist(df[\"total day charge\"], bins=10, edgecolor='k', alpha=0.7)\n",
    "plt.xlabel('Total Day Charge')\n",
    "plt.ylabel('Frequency')\n",
    "plt.title('Distribution of Total Day Charge')\n",
    "\n",
    "# Adjust layout to prevent overlap\n",
    "plt.tight_layout()\n",
    "plt.show()\n"
   ]
  },
  {
   "cell_type": "markdown",
   "metadata": {},
   "source": [
    "#### Use Box plotsto  compare the distribution of charges and calls between churned and non-churned customers"
   ]
  },
  {
   "cell_type": "code",
   "execution_count": 952,
   "metadata": {},
   "outputs": [
    {
     "data": {
      "image/png": "[encoded data removed]",
      "text/plain": [
       "<Figure size 864x432 with 1 Axes>"
      ]
     },
     "metadata": {
      "needs_background": "light"
     },
     "output_type": "display_data"
    }
   ],
   "source": [
    "#'total day charge' with respect to churn\n",
    "plt.figure(figsize=(12, 6))\n",
    "sns.boxplot(x='churn', y='total day charge', data=df)\n",
    "plt.xlabel('Churn')\n",
    "plt.ylabel('Total Day Charge')\n",
    "plt.title('Distribution of Total Day Charge by Churn Status')\n",
    "plt.show()\n"
   ]
  },
  {
   "cell_type": "markdown",
   "metadata": {},
   "source": [
    "The box plot shows that number of customers churned in realtion to increase in total day charges.This therefore means that increase in day charges will increase the rate of churn"
   ]
  },
  {
   "cell_type": "code",
   "execution_count": 953,
   "metadata": {},
   "outputs": [
    {
     "data": {
      "image/png": "[encoded data removed]",
      "text/plain": [
       "<Figure size 864x432 with 1 Axes>"
      ]
     },
     "metadata": {
      "needs_background": "light"
     },
     "output_type": "display_data"
    }
   ],
   "source": [
    "#'total total eve charge' with respect to churn\n",
    "plt.figure(figsize=(12, 6))\n",
    "sns.boxplot(x='churn', y='total eve charge', data=df)\n",
    "plt.xlabel('Churn')\n",
    "plt.ylabel('total eve charge')\n",
    "plt.title('Distribution of Total Day Charge by Churn Status')\n",
    "plt.show()"
   ]
  },
  {
   "cell_type": "markdown",
   "metadata": {},
   "source": [
    "The box plot shows that number of customers churned in realation to increase in total night charges is lower.This therefore means that increase in night charges does not have significant impact on customer churn."
   ]
  },
  {
   "cell_type": "markdown",
   "metadata": {},
   "source": [
    "### 3. Split the Data into Training and Test Sets"
   ]
  },
  {
   "cell_type": "code",
   "execution_count": 914,
   "metadata": {},
   "outputs": [],
   "source": [
    "from sklearn.model_selection import train_test_split\n",
    "from sklearn.metrics import classification_report, accuracy_score, confusion_matrix\n",
    "\n",
    "# Split data into training and test sets\n",
    "X_train, X_test, y_train, y_test = train_test_split(X, y, test_size=0.2, random_state=42)\n"
   ]
  },
  {
   "cell_type": "code",
   "execution_count": 915,
   "metadata": {},
   "outputs": [
    {
     "data": {
      "text/plain": [
       "((2666, 73), (667, 73))"
      ]
     },
     "execution_count": 915,
     "metadata": {},
     "output_type": "execute_result"
    }
   ],
   "source": [
    "# check the shape of X_train and X_test\n",
    "\n",
    "X_train.shape, X_test.shape"
   ]
  },
  {
   "cell_type": "code",
   "execution_count": 916,
   "metadata": {},
   "outputs": [
    {
     "name": "stdout",
     "output_type": "stream",
     "text": [
      "state                      object\n",
      "account length            float64\n",
      "area code                   int64\n",
      "international plan         object\n",
      "voice mail plan            object\n",
      "number vmail messages       int64\n",
      "total day minutes         float64\n",
      "total day calls             int64\n",
      "total day charge          float64\n",
      "total eve minutes         float64\n",
      "total eve calls             int64\n",
      "total eve charge          float64\n",
      "total night minutes       float64\n",
      "total night calls           int64\n",
      "total night charge        float64\n",
      "total intl minutes        float64\n",
      "total intl calls            int64\n",
      "total intl charge         float64\n",
      "customer service calls      int64\n",
      "churn                        bool\n",
      "dtype: object\n"
     ]
    }
   ],
   "source": [
    "#verify data types of all columns\n",
    "print(df.dtypes)  "
   ]
  },
  {
   "cell_type": "markdown",
   "metadata": {},
   "source": [
    "### 4. Choose and Train a Model"
   ]
  },
  {
   "cell_type": "markdown",
   "metadata": {},
   "source": [
    "I will use the logistic model"
   ]
  },
  {
   "cell_type": "code",
   "execution_count": 917,
   "metadata": {},
   "outputs": [
    {
     "name": "stdout",
     "output_type": "stream",
     "text": [
      "667\n"
     ]
    }
   ],
   "source": [
    "# split the data into train and test data\n",
    "from sklearn.model_selection import train_test_split\n",
    "from sklearn.linear_model import LogisticRegression\n",
    "\n",
    "X_train, X_test, y_train, y_test = train_test_split(X, y, test_size=0.2, random_state=42)\n",
    "model = LogisticRegression()\n",
    "model.fit(X_train, y_train)\n",
    "y_pred = model.predict(X_test)\n",
    "\n",
    "# Ensure y_test and y_pred have the same length\n",
    "print(len(y_test))  # Should be same as len(y_pred)\n"
   ]
  },
  {
   "cell_type": "code",
   "execution_count": 918,
   "metadata": {},
   "outputs": [],
   "source": [
    "# instantiate the model\n",
    "model = LogisticRegression(solver='liblinear', random_state=0)\n"
   ]
  },
  {
   "cell_type": "code",
   "execution_count": 919,
   "metadata": {},
   "outputs": [],
   "source": [
    "# fit the model\n",
    "model.fit(X_train, y_train)\n",
    "# Predict on test data\n",
    "y_pred = model.predict(X_test)\n",
    "\n",
    "# Compute confusion matrix\n",
    "cm = confusion_matrix(y_test, y_pred)"
   ]
  },
  {
   "cell_type": "code",
   "execution_count": 920,
   "metadata": {},
   "outputs": [],
   "source": [
    "# Create DataFrame for the confusion matrix\n",
    "cm_matrix = pd.DataFrame(\n",
    "    data=cm,\n",
    "    columns=['Actual Negative: 0', 'Actual Positive: 1'],\n",
    "    index=['Predict Negative: 0', 'Predict Positive: 1']\n",
    ")"
   ]
  },
  {
   "cell_type": "code",
   "execution_count": 921,
   "metadata": {},
   "outputs": [
    {
     "data": {
      "image/png": "[encoded data removed]",
      "text/plain": [
       "<Figure size 576x432 with 2 Axes>"
      ]
     },
     "metadata": {
      "needs_background": "light"
     },
     "output_type": "display_data"
    }
   ],
   "source": [
    "# Plot the confusion matrix\n",
    "plt.figure(figsize=(8, 6))\n",
    "sns.heatmap(cm_matrix, annot=True, fmt='d', cmap='YlGnBu',\n",
    "            cbar=True, annot_kws={\"size\": 16}, linewidths=.5)\n",
    "plt.title('Confusion Matrix')\n",
    "plt.xlabel('Predicted Labels')\n",
    "plt.ylabel('True Labels')\n",
    "plt.show()"
   ]
  },
  {
   "cell_type": "markdown",
   "metadata": {},
   "source": [
    "### 4b. Classification metrices"
   ]
  },
  {
   "cell_type": "markdown",
   "metadata": {},
   "source": [
    "##### classification report"
   ]
  },
  {
   "cell_type": "code",
   "execution_count": 922,
   "metadata": {},
   "outputs": [
    {
     "name": "stdout",
     "output_type": "stream",
     "text": [
      "              precision    recall  f1-score   support\n",
      "\n",
      "       False       0.87      0.97      0.92       566\n",
      "        True       0.53      0.18      0.27       101\n",
      "\n",
      "    accuracy                           0.85       667\n",
      "   macro avg       0.70      0.57      0.59       667\n",
      "weighted avg       0.82      0.85      0.82       667\n",
      "\n"
     ]
    }
   ],
   "source": [
    "#print the classification report\n",
    "from sklearn.metrics import classification_report\n",
    "\n",
    "print(classification_report(y_test, y_pred))"
   ]
  },
  {
   "cell_type": "markdown",
   "metadata": {},
   "source": [
    "#### b) Compare the train-set and test-set accuracy"
   ]
  },
  {
   "cell_type": "code",
   "execution_count": 923,
   "metadata": {},
   "outputs": [
    {
     "data": {
      "text/plain": [
       "array([False, False,  True, ..., False, False, False])"
      ]
     },
     "execution_count": 923,
     "metadata": {},
     "output_type": "execute_result"
    }
   ],
   "source": [
    "y_pred_train = model.predict(X_train)\n",
    "\n",
    "y_pred_train"
   ]
  },
  {
   "cell_type": "code",
   "execution_count": 924,
   "metadata": {},
   "outputs": [
    {
     "name": "stdout",
     "output_type": "stream",
     "text": [
      "Training-set accuracy score: 0.8706\n"
     ]
    }
   ],
   "source": [
    "#print classification accuracy\n",
    "print('Training-set accuracy score: {0:0.4f}'. format(accuracy_score(y_train, y_pred_train)))"
   ]
  },
  {
   "cell_type": "code",
   "execution_count": 925,
   "metadata": {},
   "outputs": [
    {
     "name": "stdout",
     "output_type": "stream",
     "text": [
      "Training set score: 0.8706\n",
      "Test set score: 0.8516\n"
     ]
    }
   ],
   "source": [
    "#Check for overfitting and underfitting\n",
    "#print the scores on training and test set\n",
    "\n",
    "print('Training set score: {:.4f}'.format(logreg.score(X_train, y_train)))\n",
    "\n",
    "print('Test set score: {:.4f}'.format(logreg.score(X_test, y_test)))"
   ]
  },
  {
   "cell_type": "markdown",
   "metadata": {},
   "source": [
    "The training-set accuracy score is 0.8706 while the test-set accuracy to be 0.8516. These two values are quite comparable. So, there is no question of overfitting."
   ]
  },
  {
   "cell_type": "markdown",
   "metadata": {},
   "source": [
    "### 4c). Adjusting the threshold level"
   ]
  },
  {
   "cell_type": "code",
   "execution_count": 926,
   "metadata": {},
   "outputs": [
    {
     "data": {
      "text/plain": [
       "array([[0.85964513, 0.14035487],\n",
       "       [0.99078387, 0.00921613],\n",
       "       [0.97637945, 0.02362055],\n",
       "       [0.88081324, 0.11918676],\n",
       "       [0.96806606, 0.03193394],\n",
       "       [0.98670224, 0.01329776],\n",
       "       [0.96243486, 0.03756514],\n",
       "       [0.9840752 , 0.0159248 ],\n",
       "       [0.68645213, 0.31354787],\n",
       "       [0.98060017, 0.01939983]])"
      ]
     },
     "execution_count": 926,
     "metadata": {},
     "output_type": "execute_result"
    }
   ],
   "source": [
    "# print the first 10 predicted probabilities of two classes- 0 and 1\n",
    "\n",
    "y_pred_prob = model.predict_proba(X_test)[0:10]\n",
    "\n",
    "y_pred_prob"
   ]
  },
  {
   "cell_type": "markdown",
   "metadata": {},
   "source": [
    "Observations\n",
    "\n",
    "In each row, the numbers sum to 1.\n",
    "\n",
    "There are 2 columns which correspond to 2 classes - 0 and 1.\n",
    "\n",
    "Class 0 - predicted probability that customer will churn.\n",
    "\n",
    "Class 1 - predicted probability that customer will not churn.\n",
    "\n",
    "Classification threshold level\n",
    "\n",
    "There is a classification threshold level of 0.5.\n",
    "\n",
    "Class 1 - probability of churn is predicted if probability > 0.5.\n",
    "\n",
    "Class 0 - probability of no churn is predicted if probability < 0.5.\n",
    "\n"
   ]
  },
  {
   "cell_type": "code",
   "execution_count": 927,
   "metadata": {},
   "outputs": [
    {
     "data": {
      "text/html": [
       "<div>\n",
       "<style scoped>\n",
       "    .dataframe tbody tr th:only-of-type {\n",
       "        vertical-align: middle;\n",
       "    }\n",
       "\n",
       "    .dataframe tbody tr th {\n",
       "        vertical-align: top;\n",
       "    }\n",
       "\n",
       "    .dataframe thead th {\n",
       "        text-align: right;\n",
       "    }\n",
       "</style>\n",
       "<table border=\"1\" class=\"dataframe\">\n",
       "  <thead>\n",
       "    <tr style=\"text-align: right;\">\n",
       "      <th></th>\n",
       "      <th>Prob of - customer will not churn (0)</th>\n",
       "      <th>Prob of - customer will churn (1)</th>\n",
       "    </tr>\n",
       "  </thead>\n",
       "  <tbody>\n",
       "    <tr>\n",
       "      <th>0</th>\n",
       "      <td>0.859645</td>\n",
       "      <td>0.140355</td>\n",
       "    </tr>\n",
       "    <tr>\n",
       "      <th>1</th>\n",
       "      <td>0.990784</td>\n",
       "      <td>0.009216</td>\n",
       "    </tr>\n",
       "    <tr>\n",
       "      <th>2</th>\n",
       "      <td>0.976379</td>\n",
       "      <td>0.023621</td>\n",
       "    </tr>\n",
       "    <tr>\n",
       "      <th>3</th>\n",
       "      <td>0.880813</td>\n",
       "      <td>0.119187</td>\n",
       "    </tr>\n",
       "    <tr>\n",
       "      <th>4</th>\n",
       "      <td>0.968066</td>\n",
       "      <td>0.031934</td>\n",
       "    </tr>\n",
       "    <tr>\n",
       "      <th>5</th>\n",
       "      <td>0.986702</td>\n",
       "      <td>0.013298</td>\n",
       "    </tr>\n",
       "    <tr>\n",
       "      <th>6</th>\n",
       "      <td>0.962435</td>\n",
       "      <td>0.037565</td>\n",
       "    </tr>\n",
       "    <tr>\n",
       "      <th>7</th>\n",
       "      <td>0.984075</td>\n",
       "      <td>0.015925</td>\n",
       "    </tr>\n",
       "    <tr>\n",
       "      <th>8</th>\n",
       "      <td>0.686452</td>\n",
       "      <td>0.313548</td>\n",
       "    </tr>\n",
       "    <tr>\n",
       "      <th>9</th>\n",
       "      <td>0.980600</td>\n",
       "      <td>0.019400</td>\n",
       "    </tr>\n",
       "  </tbody>\n",
       "</table>\n",
       "</div>"
      ],
      "text/plain": [
       "   Prob of - customer will not churn (0)  Prob of - customer will churn (1)\n",
       "0                               0.859645                           0.140355\n",
       "1                               0.990784                           0.009216\n",
       "2                               0.976379                           0.023621\n",
       "3                               0.880813                           0.119187\n",
       "4                               0.968066                           0.031934\n",
       "5                               0.986702                           0.013298\n",
       "6                               0.962435                           0.037565\n",
       "7                               0.984075                           0.015925\n",
       "8                               0.686452                           0.313548\n",
       "9                               0.980600                           0.019400"
      ]
     },
     "execution_count": 927,
     "metadata": {},
     "output_type": "execute_result"
    }
   ],
   "source": [
    "# store the probabilities in dataframe\n",
    "\n",
    "y_pred_prob_df = pd.DataFrame(data=y_pred_prob, columns=['Prob of - customer will not churn (0)', 'Prob of - customer will churn (1)'])\n",
    "\n",
    "y_pred_prob_df"
   ]
  },
  {
   "cell_type": "code",
   "execution_count": 928,
   "metadata": {},
   "outputs": [
    {
     "data": {
      "text/plain": [
       "array([0.14035487, 0.00921613, 0.02362055, 0.11918676, 0.03193394])"
      ]
     },
     "execution_count": 928,
     "metadata": {},
     "output_type": "execute_result"
    }
   ],
   "source": [
    "# print the first 5 predicted probabilities for class 1 - Probability of churn\n",
    "\n",
    "model.predict_proba(X_test)[0:5, 1]"
   ]
  },
  {
   "cell_type": "code",
   "execution_count": 929,
   "metadata": {},
   "outputs": [],
   "source": [
    "# store the predicted probabilities for class 1 - Probability of churn\n",
    "\n",
    "y_pred1 = model.predict_proba(X_test)[:, 1]"
   ]
  },
  {
   "cell_type": "code",
   "execution_count": 930,
   "metadata": {},
   "outputs": [
    {
     "data": {
      "text/plain": [
       "Text(0, 0.5, 'total intl charge')"
      ]
     },
     "execution_count": 930,
     "metadata": {},
     "output_type": "execute_result"
    },
    {
     "data": {
      "image/png": "[encoded data removed]",
      "text/plain": [
       "<Figure size 432x288 with 1 Axes>"
      ]
     },
     "metadata": {
      "needs_background": "light"
     },
     "output_type": "display_data"
    }
   ],
   "source": [
    "# plot histogram of predicted probabilities\n",
    "\n",
    "\n",
    "# adjust the font size \n",
    "plt.rcParams['font.size'] = 10\n",
    "\n",
    "\n",
    "# plot histogram with 10 bins\n",
    "plt.hist(y_pred1, bins = 10)\n",
    "\n",
    "\n",
    "# set the title of predicted probabilities\n",
    "plt.title('Histogram of predicted probabilities of churn')\n",
    "\n",
    "\n",
    "# set the x-axis limit\n",
    "plt.xlim(0,1)\n",
    "\n",
    "\n",
    "# set the title\n",
    "plt.xlabel('Predicted probabilities of churn')\n",
    "plt.ylabel('total intl charge')\n"
   ]
  },
  {
   "cell_type": "markdown",
   "metadata": {},
   "source": [
    "### Observations"
   ]
  },
  {
   "cell_type": "markdown",
   "metadata": {},
   "source": [
    "There are small number of observations with probability > 0.5.\n",
    "\n",
    "So, these small number of observations predict that customers will churn.\n",
    "\n",
    "Majority of observations predict that customers will not churn."
   ]
  },
  {
   "cell_type": "markdown",
   "metadata": {},
   "source": [
    "### 5. Analysis of the Results\n",
    "Accuracy: The proportion of correctly predicted instances. An accuracy of approximately 85.2% means that our model correctly classified about 85.2% of all instances in our dataset.\n",
    "\n",
    "Confusion Matrix: Shows the number of true positives, true negatives, false positives, and false negatives.\n",
    "True Negatives (TN): 551 (Correctly predicted as False)\n",
    "False Positives (FP): 15 (Incorrectly predicted as True)\n",
    "False Negatives (FN): 83 (Incorrectly predicted as False)\n",
    "True Positives (TP): 18 (Correctly predicted as True)\n",
    "\n",
    "Classification Report: Provides precision, recall, and F1-score for each class.\n",
    "\n",
    "Precision: Measures how many of the predicted positives are actually positive.\n",
    "False Class Precision: 0.87 - When the model predicts False, it is correct 87% of the time.\n",
    "True Class Precision: 0.53 - When the model predicts True, it is correct 53% of the time.\n",
    "\n",
    "Recall (Sensitivity): Measures how many actual positives are correctly predicted by the model.\n",
    "False Class Recall: 0.97 - Of all actual False instances, 97% were correctly identified.\n",
    "True Class Recall: 0.18 - Of all actual True instances, only 18% were correctly identified.\n",
    "\n",
    "F1-Score: The harmonic mean of precision and recall, balancing the two metrics.\n",
    "False Class F1-Score: 0.92 - A balance between precision and recall for the False class.\n",
    "True Class F1-Score: 0.27 - A balance between precision and recall for the True class.\n",
    "\n",
    "Support: The number of actual occurrences of each class in the dataset.\n",
    "False Class Support: 566\n",
    "True Class Support: 101\n",
    "\n",
    "Macro Average: Averages precision, recall, and F1-score across classes without considering the class imbalance.\n",
    "\n",
    "Macro Average Precision: 0.70\n",
    "Macro Average Recall: 0.57\n",
    "Macro Average F1-Score: 0.59\n",
    "Weighted Average: Averages precision, recall, and F1-score across classes, weighted by the number of instances in each class.\n",
    "\n",
    "Weighted Average Precision: 0.82\n",
    "Weighted Average Recall: 0.85\n",
    "Weighted Average F1-Score: 0.82"
   ]
  },
  {
   "cell_type": "markdown",
   "metadata": {},
   "source": [
    "### 6. Interpretation of the Results"
   ]
  },
  {
   "cell_type": "markdown",
   "metadata": {},
   "source": [
    "Overall Accuracy: 85.2% indicates the model performs well overall but doesn't tell the whole story, especially in the presence of class imbalance.\n",
    "\n",
    "Confusion Matrix Analysis:\n",
    "\n",
    "The model has high accuracy in predicting the False class (high precision and recall for False).\n",
    "The model struggles with the True class, with a low recall of 18%. This means it misses many True instances, leading to a low F1-score of 0.27 for True.\n",
    "Precision and Recall Trade-Off:\n",
    "\n",
    "High Precision for False Class: Indicates that when the model predicts False, it is mostly correct.\n",
    "Low Recall for True Class: Indicates that many True instances are missed. This might be due to an imbalanced dataset or the model’s current thresholds.\n",
    "\n",
    "Macro vs. Weighted Average:\n",
    "\n",
    "Macro Average: Provides an unweighted mean, giving equal importance to each class regardless of their support.\n",
    "Weighted Average: Takes into account the number of instances per class, giving more weight to larger classes."
   ]
  },
  {
   "cell_type": "markdown",
   "metadata": {},
   "source": [
    "### 7. Summary\n"
   ]
  },
  {
   "cell_type": "markdown",
   "metadata": {},
   "source": [
    "Model Strengths: Good at identifying False cases (high precision and recall).\n",
    "Model Weaknesses: Poor at identifying True cases (low recall and F1-score for True). This could be due to class imbalance or insufficient feature representation for the True class."
   ]
  },
  {
   "cell_type": "markdown",
   "metadata": {},
   "source": [
    "### 8. Actions to Consider"
   ]
  },
  {
   "cell_type": "markdown",
   "metadata": {},
   "source": [
    "I will consider the actions below.\n",
    "\n",
    "1. Feature Engineering: Explore if additional features or different features could help improve the model's ability to identify True instances.\n",
    "\n",
    "2. Model Tuning: Experiment with different algorithms or hyperparameters to see if they provide better performance for the True class."
   ]
  },
  {
   "cell_type": "markdown",
   "metadata": {},
   "source": [
    "### 9. MODEL TUNING"
   ]
  },
  {
   "cell_type": "markdown",
   "metadata": {},
   "source": [
    "I will experiment with ROC AUC curve and cross validate with decison tree to find out if they provide a better perfomance for the True  class."
   ]
  },
  {
   "cell_type": "markdown",
   "metadata": {},
   "source": [
    "### ROC-AUC"
   ]
  },
  {
   "cell_type": "markdown",
   "metadata": {},
   "source": [
    " In this technique, we measure the area under the curve (AUC). A perfect classifier will have a ROC AUC equal to 1, whereas a purely random classifier will have a ROC AUC equal to 0.5.\n",
    " \n",
    " So, ROC AUC is the percentage of the ROC plot that is underneath the curve."
   ]
  },
  {
   "cell_type": "code",
   "execution_count": 931,
   "metadata": {},
   "outputs": [
    {
     "name": "stdout",
     "output_type": "stream",
     "text": [
      "ROC AUC : 0.8253\n"
     ]
    }
   ],
   "source": [
    "# compute ROC AUC\n",
    "\n",
    "from sklearn.metrics import roc_auc_score\n",
    "\n",
    "ROC_AUC = roc_auc_score(y_test, y_pred1)\n",
    "\n",
    "print('ROC AUC : {:.4f}'.format(ROC_AUC))"
   ]
  },
  {
   "cell_type": "markdown",
   "metadata": {},
   "source": [
    "ROC AUC of our model approaches towards 1. So, we can conclude that our classifier does a good job in predicting whether customer will churn or not."
   ]
  },
  {
   "cell_type": "code",
   "execution_count": 932,
   "metadata": {},
   "outputs": [
    {
     "name": "stdout",
     "output_type": "stream",
     "text": [
      "Cross validated ROC AUC : 0.7977\n"
     ]
    }
   ],
   "source": [
    "# calculate cross-validated ROC AUC \n",
    "\n",
    "from sklearn.model_selection import cross_val_score\n",
    "\n",
    "Cross_validated_ROC_AUC = cross_val_score(model, X_train, y_train, cv=5, scoring='roc_auc').mean()\n",
    "\n",
    "print('Cross validated ROC AUC : {:.4f}'.format(Cross_validated_ROC_AUC))"
   ]
  },
  {
   "cell_type": "markdown",
   "metadata": {},
   "source": [
    "### 10.DECISION TREE CROSS VALIDATION"
   ]
  },
  {
   "cell_type": "code",
   "execution_count": 933,
   "metadata": {},
   "outputs": [],
   "source": [
    "#import libraries\n",
    "from sklearn.model_selection import cross_val_score, KFold\n",
    "from sklearn.tree import DecisionTreeClassifier\n",
    "from sklearn.datasets import load_iris\n",
    "from sklearn.metrics import accuracy_score"
   ]
  },
  {
   "cell_type": "code",
   "execution_count": 934,
   "metadata": {},
   "outputs": [],
   "source": [
    "# Load data \n",
    "X = df_encoded.drop(columns=['churn'])\n",
    "y = df_encoded['churn']\n"
   ]
  },
  {
   "cell_type": "code",
   "execution_count": 935,
   "metadata": {},
   "outputs": [],
   "source": [
    "# Initialize the Decision Tree classifier\n",
    "dt_classifier = DecisionTreeClassifier()"
   ]
  },
  {
   "cell_type": "markdown",
   "metadata": {},
   "source": [
    "### Define Cross-Validation Strategy"
   ]
  },
  {
   "cell_type": "markdown",
   "metadata": {},
   "source": [
    "I will use StratifiedKFold ensures each fold has the same proportion of class labels, which is especially useful for classification problems."
   ]
  },
  {
   "cell_type": "code",
   "execution_count": 936,
   "metadata": {},
   "outputs": [],
   "source": [
    "from sklearn.model_selection import StratifiedKFold\n",
    "\n",
    "# Define cross-validation strategy\n",
    "cv = StratifiedKFold(n_splits=5, shuffle=True, random_state=42)\n"
   ]
  },
  {
   "cell_type": "code",
   "execution_count": 937,
   "metadata": {},
   "outputs": [
    {
     "name": "stdout",
     "output_type": "stream",
     "text": [
      "Accuracy scores for each fold: [0.93253373 0.89655172 0.92053973 0.91141141 0.91741742]\n",
      "Mean accuracy: 0.92\n",
      "Standard deviation of accuracy: 0.01\n"
     ]
    }
   ],
   "source": [
    "# Apply cross-validation\n",
    "scores = cross_val_score(dt_classifier, X, y, cv=cv, scoring='accuracy')\n",
    "\n",
    "# Print results\n",
    "print(f\"Accuracy scores for each fold: {scores}\")\n",
    "print(f\"Mean accuracy: {scores.mean():.2f}\")\n",
    "print(f\"Standard deviation of accuracy: {scores.std():.2f}\")\n"
   ]
  },
  {
   "cell_type": "markdown",
   "metadata": {},
   "source": [
    "Our, original model score is found to be 0.852. The average cross-validation score is 0.91. \n",
    "\n",
    "The mean accuracy of 0.91 indicates that, on average,the decision tree model correctly classifies 91% of the samples across all folds. This is a high accuracy, suggesting that the model performs well on the dataset.\n",
    "\n",
    "Standard deviation: 0.02\n",
    "\n",
    "The standard deviation of 0.02 indicates that the accuracy scores vary slightly across the folds. This low standard deviation suggests that the model's performance is consistent and stable across different subsets of the data"
   ]
  },
  {
   "cell_type": "markdown",
   "metadata": {},
   "source": [
    "### 11. Hyperparameter Optimization using GridSearch CV"
   ]
  },
  {
   "cell_type": "code",
   "execution_count": 946,
   "metadata": {},
   "outputs": [],
   "source": [
    " from sklearn.model_selection import GridSearchCV\n",
    "\n",
    "# Define parameter grid\n",
    "param_grid = {\n",
    "    'criterion': ['gini', 'entropy'],\n",
    "    'max_depth': [None, 10, 20, 30],\n",
    "    'min_samples_split': [2, 5, 10],\n",
    "    'min_samples_leaf': [1, 2, 4]\n",
    "}\n"
   ]
  },
  {
   "cell_type": "code",
   "execution_count": 947,
   "metadata": {},
   "outputs": [],
   "source": [
    "# Initialize GridSearchCV\n",
    "grid_search = GridSearchCV(\n",
    "    estimator=dt_classifier,\n",
    "    param_grid=param_grid,\n",
    "    cv=5,  # Number of cross-validation folds\n",
    "    scoring='accuracy',  # Metric to evaluate performance\n",
    "    n_jobs=-1,  # Number of parallel jobs to run (-1 means using all processors)\n",
    "    verbose=1  # Verbosity level\n",
    ")\n"
   ]
  },
  {
   "cell_type": "code",
   "execution_count": 949,
   "metadata": {},
   "outputs": [
    {
     "name": "stdout",
     "output_type": "stream",
     "text": [
      "Fitting 5 folds for each of 72 candidates, totalling 360 fits\n",
      "Best parameters: {'criterion': 'entropy', 'max_depth': 10, 'min_samples_leaf': 2, 'min_samples_split': 5}\n",
      "Best score: 0.94\n",
      "Test accuracy: 0.93\n"
     ]
    }
   ],
   "source": [
    "# Fit the model with GridSearchCV\n",
    "grid_search.fit(X_train, y_train)\n",
    "\n",
    "# Get the best parameters and best score\n",
    "print(f\"Best parameters: {grid_search.best_params_}\")\n",
    "print(f\"Best score: {grid_search.best_score_:.2f}\")\n",
    "\n",
    "# Get the best estimator\n",
    "best_model = grid_search.best_estimator_\n",
    "\n",
    "# Predict using the best model\n",
    "y_pred = best_model.predict(X_test)\n",
    "\n",
    "# Evaluate the model\n",
    "print(f\"Test accuracy: {accuracy_score(y_test, y_pred):.2f}\")\n",
    "\n"
   ]
  },
  {
   "cell_type": "markdown",
   "metadata": {},
   "source": [
    "Our original model test accuracy is 0.852 while GridSearch CV accuracy is 0.93.\n",
    "\n",
    "We can see that GridSearch CV improve the performance for this particular model."
   ]
  },
  {
   "cell_type": "markdown",
   "metadata": {},
   "source": [
    "### 12.RESULTS CONCLUSION"
   ]
  },
  {
   "cell_type": "markdown",
   "metadata": {},
   "source": [
    "1. The logistic regression model accuracy score is 0.852. So, the model does a very good job in predicting whether or not the cutomer will churn.\n",
    "\n",
    "2. Small number of observations predict that customer will churn. Majority of observations predict that customer will not churn.\n",
    "\n",
    "3. The model shows no signs of overfitting.\n",
    "\n",
    "4. Overall Performance of the Decision tree model:\n",
    "The decision tree model shows high performance with a mean accuracy of 91%, which is quite good. This implies that the model is effectively capturing patterns in the data and making accurate predictions.\n",
    "Consistency:\n",
    "The low standard deviation (0.02) suggests that the model’s performance is consistent across different folds of the cross-validation. This indicates that the model is not overly sensitive to the specific data it was trained on, which is a positive sign of robustness.\n",
    "\n",
    "Model Suitability:\n",
    "Given the high mean accuracy and low variability, the decision tree model appears to be well-suited for this dataset. It is performing reliably and accurately.\n",
    "\n",
    "5. Our original model test accuracy is 0.852 while GridSearch CV accuracy is 0.93. We can see that GridSearch CV improve the performance for this particular model."
   ]
  },
  {
   "cell_type": "markdown",
   "metadata": {},
   "source": [
    "### 13. RECOMMENDATIONS"
   ]
  },
  {
   "cell_type": "markdown",
   "metadata": {},
   "source": [
    "you can develop interventions or marketing strategies aimed at reducing churn for similar customers."
   ]
  }
 ],
 "metadata": {
  "kernelspec": {
   "display_name": "learn-env",
   "language": "python",
   "name": "python3"
  },
  "language_info": {
   "codemirror_mode": {
    "name": "ipython",
    "version": 3
   },
   "file_extension": ".py",
   "mimetype": "text/x-python",
   "name": "python",
   "nbconvert_exporter": "python",
   "pygments_lexer": "ipython3",
   "version": "3.8.5"
  }
 },
 "nbformat": 4,
 "nbformat_minor": 2
}
